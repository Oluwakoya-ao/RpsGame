{
 "cells": [
  {
   "cell_type": "code",
   "execution_count": 1,
   "id": "bc99f805-43de-4d9a-9a85-f9e94866be9c",
   "metadata": {},
   "outputs": [
    {
     "name": "stdin",
     "output_type": "stream",
     "text": [
      "\n",
      "Enter...\n",
      " 1 for Rock\n",
      " 2 for Paper\n",
      " 3 for Scissors\n",
      "\n",
      ": \n",
      "\n",
      " 1\n"
     ]
    },
    {
     "name": "stdout",
     "output_type": "stream",
     "text": [
      "\n",
      "You choose ROCK.\n",
      "Python choose PAPER.\n",
      "\n",
      "Python won!\n",
      "\n",
      "Game Count: 1\n",
      "\n",
      "player_wins: 0\n",
      "\n",
      "python_wins: 1\n",
      "\n",
      "Play again?\n"
     ]
    },
    {
     "name": "stdin",
     "output_type": "stream",
     "text": [
      "\n",
      "Y for yes \n",
      "Q to Quit\n",
      " Q\n"
     ]
    },
    {
     "name": "stdout",
     "output_type": "stream",
     "text": [
      "\n",
      "Thank you for playing!\n",
      "\n",
      "\n",
      " Bye!\n"
     ]
    }
   ],
   "source": [
    "import sys\n",
    "import random \n",
    "from enum import Enum\n",
    "\n",
    "def RPS():\n",
    "    \"\"\"This module contains functions to play Rock, Paper, Scissors.\n",
    "    It includes:\n",
    "    - A function to play the game\n",
    "    - A function to decide the winner\n",
    "    \"\"\"\n",
    "    game_count = 0 \n",
    "    player_wins = 0\n",
    "    python_wins = 0\n",
    "    \n",
    "    class RPS(Enum):\n",
    "        ROCK = 1\n",
    "        PAPER = 2\n",
    "        SCISSORS = 3 \n",
    "    \n",
    "    def game_RPS():\n",
    "        nonlocal player_wins \n",
    "        nonlocal python_wins \n",
    "        playerchoice = input(\"\\nEnter...\\n 1 for Rock\\n 2 for Paper\\n 3 for Scissors\\n\\n: \\n\\n\")\n",
    "        \n",
    "        if playerchoice not in ['1', '2', '3']:\n",
    "            print('You must enter 1, 2, or 3')\n",
    "            return game_RPS()  # Recursive call to restart the game\n",
    "        \n",
    "        player = int(playerchoice)\n",
    "        computerchoice = random.choice([1, 2, 3])\n",
    "        computer = int(computerchoice)\n",
    "        \n",
    "        print(f'\\nYou choose {RPS(player).name}.')\n",
    "        print(f'Python choose {RPS(computer).name}.\\n')\n",
    "        \n",
    "        def decide_winner(player, computer):\n",
    "            nonlocal player_wins\n",
    "            nonlocal python_wins\n",
    "            if player == 1 and computer == 3:\n",
    "                player_wins += 1\n",
    "                return 'You won!'\n",
    "            elif player == 2 and computer == 3: \n",
    "                player_wins += 1\n",
    "                return 'You won!'\n",
    "            elif player == 3 and computer == 2:\n",
    "                player_wins += 1\n",
    "                return 'You won!'\n",
    "            elif player == computer:\n",
    "                return 'Tie game!'\n",
    "            else:\n",
    "                python_wins += 1\n",
    "                return 'Python won!'\n",
    "\n",
    "        game_result = decide_winner(player, computer)\n",
    "        print(game_result)\n",
    "        \n",
    "        nonlocal game_count\n",
    "        game_count += 1\n",
    "        print(f'\\nGame Count: {str(game_count)}')\n",
    "        print(f'\\nplayer_wins: {str(player_wins)}') \n",
    "        print(f'\\npython_wins: {str(python_wins)}') \n",
    "        print(f'\\nPlay again?') \n",
    "        \n",
    "        while True:\n",
    "            playagain = input('\\nY for yes \\nQ to Quit\\n')\n",
    "            if playagain.lower() not in ['y', 'q']:\n",
    "                continue\n",
    "            else:\n",
    "                break\n",
    "    \n",
    "        if playagain.lower() == 'y':\n",
    "            return game_RPS()  # Continue the game\n",
    "        else:\n",
    "            print('\\nThank you for playing!\\n')       \n",
    "        print('\\n Bye!')\n",
    "    \n",
    "    return game_RPS\n",
    "\n",
    "rock_paper_scissor = RPS()\n",
    "\n",
    "if __name__ == '__main__':\n",
    "    rock_paper_scissor()\n"
   ]
  },
  {
   "cell_type": "code",
   "execution_count": null,
   "id": "86eabb49-42f9-434b-9f78-ef588ac66c99",
   "metadata": {},
   "outputs": [],
   "source": []
  }
 ],
 "metadata": {
  "kernelspec": {
   "display_name": "Python 3 (ipykernel)",
   "language": "python",
   "name": "python3"
  },
  "language_info": {
   "codemirror_mode": {
    "name": "ipython",
    "version": 3
   },
   "file_extension": ".py",
   "mimetype": "text/x-python",
   "name": "python",
   "nbconvert_exporter": "python",
   "pygments_lexer": "ipython3",
   "version": "3.12.4"
  }
 },
 "nbformat": 4,
 "nbformat_minor": 5
}
